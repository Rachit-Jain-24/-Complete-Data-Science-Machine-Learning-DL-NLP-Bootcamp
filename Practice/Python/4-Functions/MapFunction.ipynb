{
 "cells": [
  {
   "cell_type": "code",
   "execution_count": 1,
   "metadata": {},
   "outputs": [],
   "source": [
    "#Map function\n",
    "\n",
    "#it is used to apply a function to each item in an iterable (like list, tuple, set, dictionary etc.) and returns a new iterable with the results.\n",
    "#it is a higher order function, i.e., it takes another function as an argument.\n",
    "#it is a built-in function in python.\n",
    "#it is a shorthand for a for loop.\n"
   ]
  },
  {
   "cell_type": "code",
   "execution_count": 5,
   "metadata": {},
   "outputs": [
    {
     "name": "stdout",
     "output_type": "stream",
     "text": [
      "25\n",
      "[1, 4, 9, 16, 25, 36, 49, 64, 81, 100]\n",
      "[1, 4, 9, 16, 25, 36, 49, 64, 81, 100]\n",
      "[6, 8, 10, 12]\n"
     ]
    }
   ],
   "source": [
    "def square(x):\n",
    "    return x * x\n",
    "print(square(5))  # Output: 25\n",
    "\n",
    "numbers=[1,2,3,4,5,6,7,8,9,10]\n",
    "sq_map=list(map(square,numbers))\n",
    "print(sq_map)\n",
    "\n",
    "\n",
    "sq_map_lamb=list(map(lambda x:x*x,numbers))\n",
    "print(sq_map_lamb)\n",
    "\n",
    "\n",
    "\n",
    "num1=[1,2,3,4]\n",
    "num2=[5,6,7,8]\n",
    "\n",
    "sum_num12=list(map(lambda x,y:x+y,num1,num2))\n",
    "print(sum_num12)"
   ]
  }
 ],
 "metadata": {
  "kernelspec": {
   "display_name": ".venv",
   "language": "python",
   "name": "python3"
  },
  "language_info": {
   "codemirror_mode": {
    "name": "ipython",
    "version": 3
   },
   "file_extension": ".py",
   "mimetype": "text/x-python",
   "name": "python",
   "nbconvert_exporter": "python",
   "pygments_lexer": "ipython3",
   "version": "3.12.7"
  }
 },
 "nbformat": 4,
 "nbformat_minor": 2
}
