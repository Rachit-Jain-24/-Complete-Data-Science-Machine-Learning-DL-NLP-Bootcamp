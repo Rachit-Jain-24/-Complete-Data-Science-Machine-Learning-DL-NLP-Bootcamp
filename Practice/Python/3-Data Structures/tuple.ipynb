{
 "cells": [
  {
   "cell_type": "markdown",
   "metadata": {},
   "source": [
    "#tuple"
   ]
  },
  {
   "cell_type": "code",
   "execution_count": 5,
   "metadata": {},
   "outputs": [
    {
     "data": {
      "text/plain": [
       "list[1, 2, 3, 4]"
      ]
     },
     "execution_count": 5,
     "metadata": {},
     "output_type": "execute_result"
    }
   ],
   "source": [
    "t1=tuple()\n",
    "t1\n",
    "\n",
    "t1=tuple([1,2,3,4])\n",
    "t1\n",
    "\n",
    "t2=list[(1,2,3,4)]\n",
    "t2\n"
   ]
  },
  {
   "cell_type": "code",
   "execution_count": 7,
   "metadata": {},
   "outputs": [
    {
     "data": {
      "text/plain": [
       "tuple"
      ]
     },
     "execution_count": 7,
     "metadata": {},
     "output_type": "execute_result"
    }
   ],
   "source": [
    "t3=(1,2,\"rachit\",\"jain\")\n",
    "t3\n",
    "type(t3)"
   ]
  },
  {
   "cell_type": "code",
   "execution_count": 10,
   "metadata": {},
   "outputs": [
    {
     "name": "stdout",
     "output_type": "stream",
     "text": [
      "rachit\n",
      "('rachit', 'jain')\n",
      "(2, 'rachit', 'jain')\n",
      "(1, 2)\n",
      "('jain', 2)\n"
     ]
    }
   ],
   "source": [
    "#Accessing the elements in tuple\n",
    "print(t3[2])\n",
    "print(t3[2:])\n",
    "print(t3[1:])\n",
    "print(t3[:-2])\n",
    "print(t3[::-2])\n"
   ]
  },
  {
   "cell_type": "code",
   "execution_count": 13,
   "metadata": {},
   "outputs": [
    {
     "name": "stdout",
     "output_type": "stream",
     "text": [
      "(1, 2, 3, 'r', 'a', 'c')\n",
      "(1, 2, 3, 1, 2, 3, 1, 2, 3)\n"
     ]
    }
   ],
   "source": [
    "#tuple operations:\n",
    "\n",
    "##concatenation:\n",
    "tup1=(1,2,3)\n",
    "tup2=(\"r\",\"a\",\"c\")\n",
    "\n",
    "concat=tup1+tup2\n",
    "print(concat)\n",
    "\n",
    "#repetition\n",
    "\n",
    "tup4=tup1*3\n",
    "print(tup4)\n",
    "\n",
    "#slicing\n"
   ]
  },
  {
   "cell_type": "code",
   "execution_count": null,
   "metadata": {},
   "outputs": [],
   "source": [
    "#Immutable nature of tuples\n"
   ]
  },
  {
   "cell_type": "code",
   "execution_count": 15,
   "metadata": {},
   "outputs": [
    {
     "name": "stdout",
     "output_type": "stream",
     "text": [
      "3\n",
      "1\n"
     ]
    }
   ],
   "source": [
    "#methods\n",
    "#1.count\n",
    "#2.index\n",
    "\n",
    "print(tup4.count(2))\n",
    "print(tup4.index(2))"
   ]
  },
  {
   "cell_type": "code",
   "execution_count": 19,
   "metadata": {},
   "outputs": [
    {
     "name": "stdout",
     "output_type": "stream",
     "text": [
      "(1, 'rj')\n",
      "1\n",
      "rj\n",
      " \n",
      "1\n",
      "[2, 3, 4, 5]\n",
      "6\n"
     ]
    }
   ],
   "source": [
    "#packing and unpacking tuple\n",
    "packed_tup=1,\"rj\"  # by default assigning in commas it forms a tuple\n",
    "print(packed_tup)\n",
    "\n",
    "#unpacking in normal way\n",
    "a,b=packed_tup\n",
    "print(a)\n",
    "print(b)\n",
    "\n",
    "print(\" \")\n",
    "#unpacking with *\n",
    "\n",
    "num=1,2,3,4,5,6\n",
    "\n",
    "first,*middle,last=num\n",
    "\n",
    "print(first)\n",
    "print(middle)\n",
    "print(last)"
   ]
  },
  {
   "cell_type": "code",
   "execution_count": 28,
   "metadata": {},
   "outputs": [
    {
     "name": "stdout",
     "output_type": "stream",
     "text": [
      "('a', 'b', 'c')\n",
      "(False,)\n",
      "4\n",
      "[8, 9]\n"
     ]
    }
   ],
   "source": [
    "#Nested tuple\n",
    "nested_tuple = ((1, 2, 3), (\"a\", \"b\", \"c\"), (True, False))\n",
    "print(nested_tuple[1])\n",
    "print(nested_tuple[2][1:3])\n",
    "\n",
    "\n",
    "#Nested list\n",
    "lst=[[1,2,3,4],[6,7,8,9],[\"rj\",12,\"c\"]]\n",
    "print(lst[0][3]) # accessing list's 0 index mai which element k liye 2nd square\n",
    "print(lst[1][2:])\n"
   ]
  },
  {
   "cell_type": "code",
   "execution_count": 27,
   "metadata": {},
   "outputs": [
    {
     "name": "stdout",
     "output_type": "stream",
     "text": [
      "1 2 3 \n",
      "a b c \n",
      "True False \n"
     ]
    }
   ],
   "source": [
    "## iterating over nested tuples\n",
    "for sub_tuple in nested_tuple:\n",
    "        for item in sub_tuple:\n",
    "                print(item,end=\" \")\n",
    "        print()"
   ]
  }
 ],
 "metadata": {
  "kernelspec": {
   "display_name": ".venv",
   "language": "python",
   "name": "python3"
  },
  "language_info": {
   "codemirror_mode": {
    "name": "ipython",
    "version": 3
   },
   "file_extension": ".py",
   "mimetype": "text/x-python",
   "name": "python",
   "nbconvert_exporter": "python",
   "pygments_lexer": "ipython3",
   "version": "3.12.7"
  }
 },
 "nbformat": 4,
 "nbformat_minor": 2
}
