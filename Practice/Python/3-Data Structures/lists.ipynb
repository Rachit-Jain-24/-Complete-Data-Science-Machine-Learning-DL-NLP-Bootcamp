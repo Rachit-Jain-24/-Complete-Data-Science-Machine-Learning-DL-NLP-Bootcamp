{
 "cells": [
  {
   "cell_type": "markdown",
   "metadata": {},
   "source": [
    "Lists data structure\n"
   ]
  },
  {
   "cell_type": "code",
   "execution_count": 1,
   "metadata": {},
   "outputs": [
    {
     "name": "stdout",
     "output_type": "stream",
     "text": [
      "<class 'list'>\n"
     ]
    }
   ],
   "source": [
    "list1=[]\n",
    "print(type(list1))"
   ]
  },
  {
   "cell_type": "code",
   "execution_count": 2,
   "metadata": {},
   "outputs": [
    {
     "name": "stdout",
     "output_type": "stream",
     "text": [
      "[1, 'rachit', 'jain', 40]\n"
     ]
    }
   ],
   "source": [
    "l1=[1,\"rachit\",\"jain\",40]\n",
    "print(l1)"
   ]
  },
  {
   "cell_type": "code",
   "execution_count": 10,
   "metadata": {},
   "outputs": [
    {
     "name": "stdout",
     "output_type": "stream",
     "text": [
      "['apple', 'banana', 'orange', 'grapes']\n",
      "['apple', 'banana', 'orange']\n",
      "['apple', 'banana', 'orange', 'grapes']\n"
     ]
    }
   ],
   "source": [
    "#accessing list elements\n",
    "\n",
    "l2=[\"apple\",\"banana\",\"orange\",\"grapes\"]\n",
    "\n",
    "print(l2)\n",
    "print(l2[:3])\n",
    "print(l2[:])"
   ]
  },
  {
   "cell_type": "code",
   "execution_count": 12,
   "metadata": {},
   "outputs": [
    {
     "data": {
      "text/plain": [
       "['apple', 'w', 'a', 't', 'e', 'r', 'm', 'e', 'l', 'o', 'n']"
      ]
     },
     "execution_count": 12,
     "metadata": {},
     "output_type": "execute_result"
    }
   ],
   "source": [
    "#modifying elements in list\n",
    "\n",
    "l2[3]=\"watermelon\"\n",
    "\n",
    "l2\n",
    "\n",
    "l2[1:]=\"watermelon\"\n",
    "l2"
   ]
  },
  {
   "cell_type": "code",
   "execution_count": 15,
   "metadata": {},
   "outputs": [],
   "source": [
    "l2.append(\"papaya\")\n",
    "l2.remove(\"papaya\")\n"
   ]
  },
  {
   "cell_type": "code",
   "execution_count": 23,
   "metadata": {},
   "outputs": [
    {
     "data": {
      "text/plain": [
       "['r', 'm', 'e', 'e']"
      ]
     },
     "execution_count": 23,
     "metadata": {},
     "output_type": "execute_result"
    }
   ],
   "source": [
    "\n",
    "\n",
    "l2.sort()\n",
    "l2\n",
    "l2.reverse()\n",
    "l2\n",
    "\n",
    "l2.count(\"e\")\n",
    "l2"
   ]
  },
  {
   "cell_type": "code",
   "execution_count": 29,
   "metadata": {},
   "outputs": [
    {
     "name": "stdout",
     "output_type": "stream",
     "text": [
      "['a', 2, 2, 2, 2, 2, 3]\n"
     ]
    },
    {
     "data": {
      "text/plain": [
       "5"
      ]
     },
     "execution_count": 29,
     "metadata": {},
     "output_type": "execute_result"
    }
   ],
   "source": [
    "l3=[\"a\",2,2,2,2,2,3]\n",
    "print(l3)\n",
    "l3.count(2)"
   ]
  },
  {
   "cell_type": "code",
   "execution_count": 31,
   "metadata": {},
   "outputs": [
    {
     "data": {
      "text/plain": [
       "[]"
      ]
     },
     "execution_count": 31,
     "metadata": {},
     "output_type": "execute_result"
    }
   ],
   "source": [
    "l3.clear()\n",
    "l3"
   ]
  },
  {
   "cell_type": "code",
   "execution_count": 33,
   "metadata": {},
   "outputs": [
    {
     "name": "stdout",
     "output_type": "stream",
     "text": [
      "[4, 4, 5, 6]\n",
      "[1, 2, 3, 4, 4, 5]\n",
      "[4, 4, 5, 6, 9]\n",
      "[1, 4, 6]\n",
      "[9, 6, 5, 4, 4, 3, 2, 1]\n"
     ]
    }
   ],
   "source": [
    "#slicing list\n",
    "\n",
    "l4=[1,2,3,4,4,5,6,9]\n",
    "\n",
    "print(l4[3:7])\n",
    "print(l4[:6])\n",
    "print(l4[3:])\n",
    "print(l4[::3])\n",
    "print(l4[::-1])"
   ]
  },
  {
   "cell_type": "code",
   "execution_count": 34,
   "metadata": {},
   "outputs": [
    {
     "name": "stdout",
     "output_type": "stream",
     "text": [
      "1\n",
      "2\n",
      "3\n",
      "4\n",
      "4\n",
      "5\n",
      "6\n",
      "9\n"
     ]
    }
   ],
   "source": [
    "#iterating over list using for loop\n",
    "\n",
    "for num in l4:\n",
    "    print(num)"
   ]
  },
  {
   "cell_type": "code",
   "execution_count": 50,
   "metadata": {},
   "outputs": [
    {
     "name": "stdout",
     "output_type": "stream",
     "text": [
      "<enumerate object at 0x0000017F20C84860>\n",
      "0 1\n",
      "1 2\n",
      "2 3\n",
      "3 4\n",
      "4 4\n",
      "5 5\n",
      "6 6\n",
      "7 9\n"
     ]
    }
   ],
   "source": [
    "#iterating with index\n",
    "#enumerate  - we get the index number of the elements in list \n",
    "\n",
    "print(enumerate(l4))\n",
    "\n",
    "for i,num in enumerate(l4):\n",
    "    print(i,num,)\n"
   ]
  },
  {
   "cell_type": "code",
   "execution_count": 51,
   "metadata": {},
   "outputs": [
    {
     "name": "stdout",
     "output_type": "stream",
     "text": [
      "[0, 1, 4, 9, 16, 25, 36, 49, 64, 81]\n"
     ]
    }
   ],
   "source": [
    "#list comprehension - we can do direct op inside the list to save memory space      \n",
    "lst=[]\n",
    "for x in range(10):\n",
    "    lst.append(x**2)\n",
    "print(lst)"
   ]
  },
  {
   "cell_type": "markdown",
   "metadata": {},
   "source": [
    "\n",
    "#list comprehension syntax\n",
    "\n",
    "basics syntax - [ expression for item in iterable]\n",
    "\n",
    "with conditional logic - [expression for item in iterable if condition]\n",
    "\n",
    "nested list comprehension - [expression for item1 in iterable1 for item2 in iterable2]\n",
    "\n"
   ]
  },
  {
   "cell_type": "code",
   "execution_count": 56,
   "metadata": {},
   "outputs": [
    {
     "name": "stdout",
     "output_type": "stream",
     "text": [
      "[0, 1, 4, 9, 16, 25, 36, 49, 64, 81, 100, 121, 144, 169, 196, 225, 256, 289, 324, 361, 400, 441, 484, 529, 576, 625, 676, 729, 784, 841]\n",
      "\n",
      "[0, 4, 16, 36, 64]\n",
      "\n",
      "[[1, 'a'], [1, 'b'], [1, 'c'], [1, 'd'], [2, 'a'], [2, 'b'], [2, 'c'], [2, 'd'], [3, 'a'], [3, 'b'], [3, 'c'], [3, 'd'], [4, 'a'], [4, 'b'], [4, 'c'], [4, 'd']]\n"
     ]
    }
   ],
   "source": [
    "### basic list comphrension\n",
    "sq=[num**2 for num in range(30)]\n",
    "\n",
    "print(sq)\n",
    "print()\n",
    "\n",
    "even_sq=[num ** 2 for num in range(10) if num%2==0]\n",
    "\n",
    "print(even_sq)\n",
    "print()\n",
    "\n",
    "\n",
    "l1=[1,2,3,4]\n",
    "l2=[\"a\",\"b\",\"c\",\"d\"]\n",
    "\n",
    "pair=[[i,j] for i in l1 for j in l2]\n",
    "print(pair)"
   ]
  },
  {
   "cell_type": "code",
   "execution_count": 57,
   "metadata": {},
   "outputs": [
    {
     "name": "stdout",
     "output_type": "stream",
     "text": [
      "[3, 2, 3]\n"
     ]
    }
   ],
   "source": [
    "##list comp with function calls\n",
    "\n",
    "words=[\"abc\",\"bv\",\"wed\"]\n",
    "length=[len(word) for word in words]\n",
    "\n",
    "print(length)  # [3, 2, 3]"
   ]
  },
  {
   "cell_type": "code",
   "execution_count": 58,
   "metadata": {},
   "outputs": [
    {
     "name": "stdout",
     "output_type": "stream",
     "text": [
      "[[1, 2], [3, 4]]\n"
     ]
    }
   ],
   "source": [
    "l1=[[1,2],[3,4]]\n",
    "print(l1)"
   ]
  }
 ],
 "metadata": {
  "kernelspec": {
   "display_name": ".venv",
   "language": "python",
   "name": "python3"
  },
  "language_info": {
   "codemirror_mode": {
    "name": "ipython",
    "version": 3
   },
   "file_extension": ".py",
   "mimetype": "text/x-python",
   "name": "python",
   "nbconvert_exporter": "python",
   "pygments_lexer": "ipython3",
   "version": "3.12.7"
  }
 },
 "nbformat": 4,
 "nbformat_minor": 2
}
