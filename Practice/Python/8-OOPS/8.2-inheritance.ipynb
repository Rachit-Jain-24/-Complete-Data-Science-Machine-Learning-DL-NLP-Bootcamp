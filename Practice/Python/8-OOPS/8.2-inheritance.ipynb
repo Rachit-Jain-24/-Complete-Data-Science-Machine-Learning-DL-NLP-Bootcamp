{
 "cells": [
  {
   "cell_type": "markdown",
   "metadata": {},
   "source": [
    "Inheritance in python  \n",
    "Inheritance is a mechanism in object-oriented programming (OOP) that allows one class to inherit the\n",
    "properties and methods of another class. The class that is being inherited from is called the\n",
    "parent or superclass, and the class that is doing the inheriting is called the child or subclass."
   ]
  },
  {
   "cell_type": "code",
   "execution_count": 10,
   "metadata": {},
   "outputs": [],
   "source": [
    " # Single Inheritance\n",
    " #Parent class\n",
    " \n",
    "class Car:\n",
    "    def __init__(self,windows,doors,enginetype):\n",
    "        self.windows = windows\n",
    "        self.doors = doors\n",
    "        self.enginetype = enginetype\n",
    "\n",
    "    def drive(self):\n",
    "        print(f\"The person is driving {self.enginetype} car\")\n",
    "\n"
   ]
  },
  {
   "cell_type": "code",
   "execution_count": 11,
   "metadata": {},
   "outputs": [
    {
     "name": "stdout",
     "output_type": "stream",
     "text": [
      "The person is driving diesel car\n",
      "None\n"
     ]
    }
   ],
   "source": [
    "car1=Car(4,5,\"diesel\")\n",
    "print(car1.drive())\n",
    "# print(car1.enginetype)"
   ]
  },
  {
   "cell_type": "code",
   "execution_count": 12,
   "metadata": {},
   "outputs": [],
   "source": [
    "class Tesla(Car):# class parent_class(child_class)\n",
    "\n",
    "    def __init__(self, windows, doors, enginetype,is_selfdriving):\n",
    "\n",
    "        #use super() to call init method from parent class\n",
    "        super().__init__(windows, doors, enginetype)\n",
    "        self.is_selfdriving = is_selfdriving\n",
    "\n",
    "\n",
    "    def selfdriving(self):\n",
    "        print(f\"This car has {self.is_selfdriving}\")\n"
   ]
  },
  {
   "cell_type": "code",
   "execution_count": 14,
   "metadata": {},
   "outputs": [
    {
     "name": "stdout",
     "output_type": "stream",
     "text": [
      "The person is driving electric car\n",
      "This car has Self driving mode\n"
     ]
    }
   ],
   "source": [
    "tesla1=Tesla(4,5,\"electric\",\"Self driving mode\")\n",
    "\n",
    "tesla1.drive() # using function methods from parent class\n",
    "\n",
    "tesla1.selfdriving() # child class method"
   ]
  },
  {
   "cell_type": "code",
   "execution_count": 18,
   "metadata": {},
   "outputs": [
    {
     "name": "stdout",
     "output_type": "stream",
     "text": [
      "Name of the animal is : Kangaroo\n",
      "Owner of this animal is: Prasad\n",
      "This animal moves using 2 legs\n"
     ]
    }
   ],
   "source": [
    "# Multiple Inheritance\n",
    "# When a class inherits from more than one base class\n",
    "\n",
    "#base class 1\n",
    "class Animal:\n",
    "    def __init__(self, name):\n",
    "        self.name = name\n",
    "        \n",
    "    def movement(self):\n",
    "        print(\"This animal moves using 2 legs\")\n",
    "\n",
    "#base class 2\n",
    "class Pet:\n",
    "    def __init__(self, owner):\n",
    "        self.owner=owner\n",
    "    \n",
    "\n",
    "#Derived class:\n",
    "class Dog(Animal,Pet): #class derived_classname(baseclass1,baseclass2)\n",
    "    def __init__(self, name, owner):\n",
    "        Animal.__init__(self,name)\n",
    "        Pet.__init__(self,owner)\n",
    "    \n",
    "    def details(self):\n",
    "        print(f\"Name of the animal is : {self.name}\")\n",
    "        print(f\"Owner of this animal is: {self.owner}\")\n",
    "\n",
    "\n",
    "#creating a object to call the class methods\n",
    "animal1=Dog(\"Kangaroo\",\"Prasad\")\n",
    "animal1.details()\n",
    "animal1.movement()"
   ]
  },
  {
   "cell_type": "code",
   "execution_count": null,
   "metadata": {},
   "outputs": [],
   "source": []
  }
 ],
 "metadata": {
  "kernelspec": {
   "display_name": "base",
   "language": "python",
   "name": "python3"
  },
  "language_info": {
   "codemirror_mode": {
    "name": "ipython",
    "version": 3
   },
   "file_extension": ".py",
   "mimetype": "text/x-python",
   "name": "python",
   "nbconvert_exporter": "python",
   "pygments_lexer": "ipython3",
   "version": "3.12.7"
  }
 },
 "nbformat": 4,
 "nbformat_minor": 2
}
