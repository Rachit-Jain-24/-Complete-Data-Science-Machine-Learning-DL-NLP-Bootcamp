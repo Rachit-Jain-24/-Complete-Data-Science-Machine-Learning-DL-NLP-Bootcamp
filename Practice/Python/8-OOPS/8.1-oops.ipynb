{
 "cells": [
  {
   "cell_type": "code",
   "execution_count": 22,
   "metadata": {},
   "outputs": [
    {
     "name": "stdout",
     "output_type": "stream",
     "text": [
      "Rachit\n",
      "1000\n",
      "5000 is deposited to your bank account. Current Balance is 6000 \n",
      "None\n",
      "200 is withdrawn from your bank account. Current Balance is 5800\n",
      "None\n",
      "Rahul\n",
      "500\n",
      "200 is deposited to your bank account. Current Balance is 700 \n",
      "None\n",
      "200 is deposited to your bank account. Current Balance is 900 \n",
      "None\n",
      "300 is withdrawn from your bank account. Current Balance is 600\n",
      "None\n"
     ]
    }
   ],
   "source": [
    "#classes and objects\n",
    "\n",
    "#creating a class\n",
    "class BankAccount:\n",
    "    \n",
    "    def __init__(self,owner,balance=0):\n",
    "        self.owner=owner\n",
    "        self.balance=balance\n",
    "    \n",
    "    def deposit(self,amount):\n",
    "        self.balance+=amount\n",
    "        print(f\"{amount} is deposited to your bank account. Current Balance is {self.balance} \")\n",
    "    \n",
    "    def withdraw(self,amount):\n",
    "        if(amount>self.balance):\n",
    "            print(\"Insufficient balance\")\n",
    "        elif(amount<0):\n",
    "            print(\"Invalid amount\")\n",
    "        else:\n",
    "            self.balance-=amount\n",
    "            print(f\"{amount} is withdrawn from your bank account. Current Balance is {self.balance}\")\n",
    "    def get_balance(self):\n",
    "        return self.balance\n",
    "\n",
    "#creating objects and calling methods\n",
    "account1=BankAccount(\"Rachit\",1000)\n",
    "account2=BankAccount(\"Rahul\",500)\n",
    "\n",
    "print(account1.owner) #accessing attributes\n",
    "print(account1.balance) #accessing attributes\n",
    "print(account1.deposit(5000)) #calling methods\n",
    "print(account1.withdraw(200)) #calling methods\n",
    "\n",
    "print(account2.owner) #accessing attributes\n",
    "print(account2.balance) #accessing attributes\n",
    "print(account2.deposit(200)) #calling methods\n",
    "print(account2.deposit(200))\n",
    "print(account2.withdraw(300))\n"
   ]
  },
  {
   "cell_type": "code",
   "execution_count": 18,
   "metadata": {},
   "outputs": [
    {
     "name": "stdout",
     "output_type": "stream",
     "text": [
      "200 is deposited to your bank account. Current Balance is 1200 \n"
     ]
    }
   ],
   "source": [
    "account1.deposit(200)"
   ]
  },
  {
   "cell_type": "code",
   "execution_count": 19,
   "metadata": {},
   "outputs": [
    {
     "data": {
      "text/plain": [
       "1200"
      ]
     },
     "execution_count": 19,
     "metadata": {},
     "output_type": "execute_result"
    }
   ],
   "source": [
    "account1.balance"
   ]
  },
  {
   "cell_type": "code",
   "execution_count": 20,
   "metadata": {},
   "outputs": [
    {
     "name": "stdout",
     "output_type": "stream",
     "text": [
      "100 is deposited to your bank account. Current Balance is 1300 \n"
     ]
    }
   ],
   "source": [
    "account1.deposit(100)"
   ]
  }
 ],
 "metadata": {
  "kernelspec": {
   "display_name": "base",
   "language": "python",
   "name": "python3"
  },
  "language_info": {
   "codemirror_mode": {
    "name": "ipython",
    "version": 3
   },
   "file_extension": ".py",
   "mimetype": "text/x-python",
   "name": "python",
   "nbconvert_exporter": "python",
   "pygments_lexer": "ipython3",
   "version": "3.12.7"
  }
 },
 "nbformat": 4,
 "nbformat_minor": 2
}
